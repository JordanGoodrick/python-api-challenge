{
 "cells": [
  {
   "cell_type": "markdown",
   "metadata": {},
   "source": [
    "# VacationPy\n",
    "---\n",
    "\n",
    "## Starter Code to Import Libraries and Load the Weather and Coordinates Data"
   ]
  },
  {
   "cell_type": "code",
   "execution_count": null,
   "metadata": {},
   "outputs": [],
   "source": [
    "# Dependencies and Setup\n",
    "import hvplot.pandas\n",
    "import pandas as pd\n",
    "import requests\n",
    "# Import API key\n",
    "from api_keys import geoapify_key"
   ]
  },
  {
   "cell_type": "code",
   "execution_count": null,
   "metadata": {},
   "outputs": [],
   "source": [
    "# Load the CSV file created in Part 1 into a Pandas DataFrame\n",
    "city_data_df = pd.read_csv(\"output_data/cities.csv\")\n",
    "\n",
    "# Display sample data\n",
    "city_data_df.head()"
   ]
  },
  {
   "cell_type": "markdown",
   "metadata": {},
   "source": [
    "---\n",
    "\n",
    "### Step 1: Create a map that displays a point for every city in the `city_data_df` DataFrame. The size of the point should be the humidity in each city."
   ]
  },
  {
   "cell_type": "code",
   "execution_count": null,
   "metadata": {},
   "outputs": [],
   "source": [
    "%%capture --no-display\n",
    "\n",
    "# Scale the humidity values to control marker size\n",
    "city_data_df['MarkerSize'] = city_data_df['Humidity'] / 10  # Adjust scaling if necessary\n",
    "\n",
    "\n",
    "map_plot = city_data_df.hvplot.scatter(\n",
    "    x='Lng', y='Lat',  \n",
    "    size='MarkerSize',  # Size based on humidity\n",
    "    color='Humidity',   \n",
    "    hover_cols=['City', 'Humidity'],  \n",
    "    title='City Humidity Map',\n",
    "    xlabel='Longitude', ylabel='Latitude',\n",
    "    size_max=30,  \n",
    "    cmap='Blues',  \n",
    ")\n",
    "\n",
    "# Display the map\n",
    "map_plot\n"
   ]
  },
  {
   "cell_type": "markdown",
   "metadata": {},
   "source": [
    "### Step 2: Narrow down the `city_data_df` DataFrame to find your ideal weather condition"
   ]
  },
  {
   "cell_type": "code",
   "execution_count": null,
   "metadata": {},
   "outputs": [],
   "source": [
    "# Narrow down cities that fit specific criteria (example criteria)\n",
    "# For instance, filtering cities with humidity > 50% and temperature > 20°C\n",
    "city_data_df = city_data_df[(city_data_df['Humidity'] > 50) & (city_data_df['Max Temp'] < 40)]\n",
    "\n",
    "# Drop any rows with null values\n",
    "city_data_df.dropna(inplace=True)\n",
    "\n",
    "# Display a sample of the data\n",
    "city_data_df.head()  \n"
   ]
  },
  {
   "cell_type": "markdown",
   "metadata": {},
   "source": [
    "### Step 3: Create a new DataFrame called `hotel_df`."
   ]
  },
  {
   "cell_type": "code",
   "execution_count": null,
   "metadata": {},
   "outputs": [],
   "source": [
    "# Step 1: Create a copy of the relevant columns\n",
    "hotel_df = city_data_df[['City', 'Country', 'Lat', 'Lng', 'Humidity']].copy()\n",
    "\n",
    "# Step 2: Add an empty column \"Hotel Name\"\n",
    "hotel_df['Hotel Name'] = None\n",
    "\n",
    "# Step 3: Display a sample of the data\n",
    "hotel_df.head()\n"
   ]
  },
  {
   "cell_type": "markdown",
   "metadata": {},
   "source": [
    "### Step 4: For each city, use the Geoapify API to find the first hotel located within 10,000 metres of your coordinates."
   ]
  },
  {
   "cell_type": "code",
   "execution_count": null,
   "metadata": {},
   "outputs": [],
   "source": [
    "import requests\n",
    "\n",
    "# Set parameters to search for a hotel\n",
    "radius = 10000  # Search radius of 10 km\n",
    "params = {\n",
    "    'apiKey': geoapify_key,  # Use your Geoapify API key stored in geoapify_key\n",
    "    'radius': radius,  \n",
    "    'categories': 'accommodation.hotel',  # Specify for hotels\n",
    "}\n",
    "\n",
    "# Print a message to follow up on the hotel search\n",
    "print(\"Starting hotel search\")\n",
    "\n",
    "# Iterate through the dataframe.\n",
    "for index, row in hotel_df.iterrows():\n",
    "    # Get latitude, longitude from the DataFrame\n",
    "    lat = row['Lat']  \n",
    "    lon = row['Lng']  \n",
    "\n",
    "    # Add the current city's latitude and longitude to the params dictionary\n",
    "    params[\"bias\"] = f\"proximity:{lon},{lat}\"  \n",
    "\n",
    "    # Print the full URL for debugging purposes\n",
    "    url = f\"https://api.geoapify.com/v2/places?{requests.compat.urlencode(params)}\"\n",
    "    print(f\"Requesting URL: {url}\")\n",
    "\n",
    "    # Set base URL for Geoapify Places API\n",
    "    base_url = \"https://api.geoapify.com/v2/places\"\n",
    "\n",
    "    # Make an API request using the params dictionary\n",
    "    try:\n",
    "        response = requests.get(base_url, params=params)\n",
    "        response.raise_for_status()  \n",
    "        \n",
    "        # Print the raw response for further inspection\n",
    "        print(f\"Response Status Code: {response.status_code}\")\n",
    "        print(f\"Response Content: {response.text}\")\n",
    "\n",
    "        name_address = response.json()\n",
    "\n",
    "        # Log the response structure for debugging\n",
    "        if 'features' in name_address and len(name_address['features']) > 0:\n",
    "            hotel_info = name_address[\"features\"][0][\"properties\"]\n",
    "            # Check if the \"name\" key exists in the properties\n",
    "            if \"name\" in hotel_info:\n",
    "                hotel_df.loc[index, \"Hotel Name\"] = hotel_info[\"name\"]\n",
    "            else:\n",
    "                hotel_df.loc[index, \"Hotel Name\"] = \"Hotel name not available\"\n",
    "        else:\n",
    "            hotel_df.loc[index, \"Hotel Name\"] = \"No hotel found\"\n",
    "        \n",
    "        # Log the search results\n",
    "        print(f\"{hotel_df.loc[index, 'City']} - nearest hotel: {hotel_df.loc[index, 'Hotel Name']}\")\n",
    "    \n",
    "    except requests.exceptions.RequestException as e:\n",
    "        # Handle request exceptions (network issues, invalid API, etc.)\n",
    "        print(f\"Error with request for {hotel_df.loc[index, 'City']}: {e}\")\n",
    "        hotel_df.loc[index, \"Hotel Name\"] = \"Request failed\"\n",
    "\n",
    "# Display sample data\n",
    "hotel_df\n"
   ]
  },
  {
   "cell_type": "markdown",
   "metadata": {},
   "source": [
    "### Step 5: Add the hotel name and the country as additional information in the hover message for each city in the map."
   ]
  },
  {
   "cell_type": "code",
   "execution_count": null,
   "metadata": {},
   "outputs": [],
   "source": [
    "%%capture --no-display\n",
    "\n",
    "# Create a map plot with the hotel coordinates (Lat, Lng)\n",
    "hotel_map = hotel_df.hvplot.points(\n",
    "    x='Lng',  # Longitude\n",
    "    y='Lat',  # Latitude\n",
    "    geo=True,  # Use geo projection to plot on a map\n",
    "    tiles='OSM',  # Use OpenStreetMap tiles for map background\n",
    "    size=10,  # Marker size \n",
    "    hover_cols=['City', 'Hotel Name'],  # Display City and Hotel Name when hovered\n",
    ")\n",
    "\n"
   ]
  },
  {
   "cell_type": "code",
   "execution_count": null,
   "metadata": {},
   "outputs": [],
   "source": [
    "hotel_map"
   ]
  },
  {
   "cell_type": "code",
   "execution_count": null,
   "metadata": {},
   "outputs": [],
   "source": []
  }
 ],
 "metadata": {
  "kernelspec": {
   "display_name": "Python 3 (ipykernel)",
   "language": "python",
   "name": "python3"
  },
  "language_info": {
   "codemirror_mode": {
    "name": "ipython",
    "version": 3
   },
   "file_extension": ".py",
   "mimetype": "text/x-python",
   "name": "python",
   "nbconvert_exporter": "python",
   "pygments_lexer": "ipython3",
   "version": "3.12.4"
  },
  "latex_envs": {
   "LaTeX_envs_menu_present": true,
   "autoclose": false,
   "autocomplete": true,
   "bibliofile": "biblio.bib",
   "cite_by": "apalike",
   "current_citInitial": 1,
   "eqLabelWithNumbers": true,
   "eqNumInitial": 1,
   "hotkeys": {
    "equation": "Ctrl-E",
    "itemize": "Ctrl-I"
   },
   "labels_anchors": false,
   "latex_user_defs": false,
   "report_style_numbering": false,
   "user_envs_cfg": false
  }
 },
 "nbformat": 4,
 "nbformat_minor": 4
}
