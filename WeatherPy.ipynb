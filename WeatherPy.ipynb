{
 "cells": [
  {
   "cell_type": "markdown",
   "metadata": {},
   "source": [
    "# WeatherPy\n",
    "\n",
    "---\n",
    "\n",
    "## Starter Code to Generate Random Geographic Coordinates and a List of Cities"
   ]
  },
  {
   "cell_type": "code",
   "execution_count": null,
   "metadata": {
    "scrolled": true
   },
   "outputs": [],
   "source": [
    "# Dependencies and Setup\n",
    "import matplotlib.pyplot as plt\n",
    "import pandas as pd\n",
    "import numpy as np\n",
    "import requests\n",
    "import time\n",
    "from scipy.stats import linregress\n",
    "\n",
    "# Impor the OpenWeatherMap API key\n",
    "from api_keys import weather_api_key\n",
    "\n",
    "# Import citipy to determine the cities based on latitude and longitude\n",
    "from citipy import citipy"
   ]
  },
  {
   "cell_type": "markdown",
   "metadata": {},
   "source": [
    "### Generate the Cities List by Using the `citipy` Library"
   ]
  },
  {
   "cell_type": "code",
   "execution_count": null,
   "metadata": {},
   "outputs": [],
   "source": [
    "# Empty list for holding the latitude and longitude combinations\n",
    "lat_lngs = []\n",
    "\n",
    "# Empty list for holding the cities names\n",
    "cities = []\n",
    "\n",
    "# Range of latitudes and longitudes\n",
    "lat_range = (-90, 90)\n",
    "lng_range = (-180, 180)\n",
    "\n",
    "# Create a set of random lat and lng combinations\n",
    "lats = np.random.uniform(lat_range[0], lat_range[1], size=1500)\n",
    "lngs = np.random.uniform(lng_range[0], lng_range[1], size=1500)\n",
    "lat_lngs = zip(lats, lngs)\n",
    "\n",
    "# Identify nearest city for each lat, lng combination\n",
    "for lat_lng in lat_lngs:\n",
    "    city = citipy.nearest_city(lat_lng[0], lat_lng[1]).city_name\n",
    "\n",
    "    # If the city is unique, then add it to a our cities list\n",
    "    if city not in cities:\n",
    "        cities.append(city)\n",
    "\n",
    "# Print the city count to confirm sufficient count\n",
    "print(f\"Number of cities in the list: {len(cities)}\")"
   ]
  },
  {
   "cell_type": "markdown",
   "metadata": {},
   "source": [
    "---"
   ]
  },
  {
   "cell_type": "markdown",
   "metadata": {},
   "source": [
    "## Requirement 1: Create Plots to Showcase the Relationship Between Weather Variables and Latitude\n",
    "\n",
    "### Use the OpenWeatherMap API to retrieve weather data from the cities list generated in the started code"
   ]
  },
  {
   "cell_type": "code",
   "execution_count": null,
   "metadata": {},
   "outputs": [],
   "source": [
    "# Set the API base URL\n",
    "url = \"https://api.openweathermap.org/data/2.5/weather\"  # OpenWeatherMap API URL\n",
    "\n",
    "# Define an empty list to fetch the weather data for each city\n",
    "city_data = []\n",
    "\n",
    "# Print to logger\n",
    "print(\"Beginning Data Retrieval     \")\n",
    "print(\"-----------------------------\")\n",
    "\n",
    "# Create counters\n",
    "record_count = 1\n",
    "set_count = 1\n",
    "\n",
    "# Loop through all the cities in our list to fetch weather data\n",
    "for i, city in enumerate(cities):\n",
    "\n",
    "    # Group cities in sets of 50 for logging purposes\n",
    "    if (i % 50 == 0 and i >= 50):\n",
    "        set_count += 1\n",
    "        record_count = 0\n",
    "\n",
    "    # Create endpoint URL with each city (including the API key)\n",
    "    city_url = f\"{url}?q={city}&appid={weather_api_key}&units=metric\" \n",
    "\n",
    "    # Log the url, record, and set numbers\n",
    "    print(f\"Processing Record {record_count} of Set {set_count} | {city}\")\n",
    "\n",
    "    # Add 1 to the record count\n",
    "    record_count += 1\n",
    "\n",
    "    # Run an API request for each of the cities\n",
    "    try:\n",
    "        # Send a GET request to the API\n",
    "        city_weather = requests.get(city_url).json()\n",
    "\n",
    "        # Parse out latitude, longitude, max temp, humidity, cloudiness, wind speed, country, and date\n",
    "        city_lat = city_weather['coord']['lat']\n",
    "        city_lng = city_weather['coord']['lon']\n",
    "        city_max_temp = city_weather['main']['temp_max']\n",
    "        city_humidity = city_weather['main']['humidity']\n",
    "        city_clouds = city_weather['clouds']['all']\n",
    "        city_wind = city_weather['wind']['speed']\n",
    "        city_country = city_weather['sys']['country']\n",
    "        city_date = city_weather['dt']\n",
    "\n",
    "        # Append the City information into city_data list\n",
    "        city_data.append({\"City\": city,\n",
    "                          \"Lat\": city_lat,\n",
    "                          \"Lng\": city_lng,\n",
    "                          \"Max Temp\": city_max_temp,\n",
    "                          \"Humidity\": city_humidity,\n",
    "                          \"Cloudiness\": city_clouds,\n",
    "                          \"Wind Speed\": city_wind,\n",
    "                          \"Country\": city_country,\n",
    "                          \"Date\": city_date})\n",
    "\n",
    "    # If an error is experienced, skip the city\n",
    "    except:\n",
    "        print(\"City not found. Skipping...\")\n",
    "        pass\n",
    "\n",
    "    # Pause to avoid rate limiting (1 second pause between requests)\n",
    "    time.sleep(1)\n",
    "\n",
    "# Indicate that Data Loading is complete\n",
    "print(\"-----------------------------\")\n",
    "print(\"Data Retrieval Complete      \")\n",
    "print(\"-----------------------------\")\n"
   ]
  },
  {
   "cell_type": "code",
   "execution_count": null,
   "metadata": {},
   "outputs": [],
   "source": [
    "# Convert the cities weather data into a Pandas DataFrame\n",
    "city_data_df = pd.DataFrame(city_data)\n",
    "\n",
    "# Show Record Count\n",
    "city_data_df.count()"
   ]
  },
  {
   "cell_type": "code",
   "execution_count": null,
   "metadata": {},
   "outputs": [],
   "source": [
    "# Display sample data\n",
    "city_data_df.head()"
   ]
  },
  {
   "cell_type": "code",
   "execution_count": null,
   "metadata": {},
   "outputs": [],
   "source": [
    "# Export the City_Data into a csv\n",
    "city_data_df.to_csv(\"output_data/cities.csv\", index_label=\"City_ID\")"
   ]
  },
  {
   "cell_type": "code",
   "execution_count": null,
   "metadata": {},
   "outputs": [],
   "source": [
    "# Read saved data\n",
    "city_data_df = pd.read_csv(\"output_data/cities.csv\", index_col=\"City_ID\")\n",
    "\n",
    "# Display sample data\n",
    "city_data_df.head()"
   ]
  },
  {
   "cell_type": "markdown",
   "metadata": {},
   "source": [
    "### Create the Scatter Plots Requested\n",
    "\n",
    "#### Latitude Vs. Temperature"
   ]
  },
  {
   "cell_type": "code",
   "execution_count": null,
   "metadata": {
    "tags": []
   },
   "outputs": [],
   "source": [
    "# Build scatter plot for latitude vs. temperature\n",
    "plt.scatter(city_data_df[\"Lat\"], city_data_df[\"Max Temp\"], color=\"blue\", edgecolors=\"black\")\n",
    "\n",
    "# Incorporate the other graph properties\n",
    "plt.title(\"City Latitude vs. Max Temperature\", fontsize=14)\n",
    "plt.xlabel(\"Latitude\", fontsize=12)\n",
    "plt.ylabel(\"Max Temperature (°C)\", fontsize=12)\n",
    "plt.grid(True)\n",
    "\n",
    "# Save the figure\n",
    "plt.savefig(\"output_data/Fig1.png\")\n",
    "\n",
    "# Show plot\n",
    "plt.show()\n"
   ]
  },
  {
   "cell_type": "markdown",
   "metadata": {},
   "source": [
    "#### Latitude Vs. Humidity"
   ]
  },
  {
   "cell_type": "code",
   "execution_count": null,
   "metadata": {},
   "outputs": [],
   "source": [
    "# Build scatter plot for latitude vs. humidity\n",
    "plt.scatter(city_data_df[\"Lat\"], city_data_df[\"Humidity\"], color=\"blue\", edgecolors=\"black\")\n",
    "\n",
    "# Incorporate the other graph properties\n",
    "plt.title(\"City Latitude vs. Humidity\", fontsize=14)\n",
    "plt.xlabel(\"Latitude\", fontsize=12)\n",
    "plt.ylabel(\"Humidity (%)\", fontsize=12)\n",
    "plt.grid(True)\n",
    "\n",
    "# Save the figure\n",
    "plt.savefig(\"output_data/Fig2.png\")\n",
    "\n",
    "# Show plot\n",
    "plt.show()\n"
   ]
  },
  {
   "cell_type": "markdown",
   "metadata": {},
   "source": [
    "#### Latitude Vs. Cloudiness"
   ]
  },
  {
   "cell_type": "code",
   "execution_count": null,
   "metadata": {},
   "outputs": [],
   "source": [
    "# Build scatter plot for latitude vs. cloudiness\n",
    "plt.scatter(city_data_df[\"Lat\"], city_data_df[\"Cloudiness\"], color=\"blue\", edgecolors=\"black\")\n",
    "\n",
    "# Incorporate the other graph properties\n",
    "plt.title(\"City Latitude vs. Cloudiness\", fontsize=14)\n",
    "plt.xlabel(\"Latitude\", fontsize=12)\n",
    "plt.ylabel(\"Cloudiness (%)\", fontsize=12)\n",
    "plt.grid(True)\n",
    "\n",
    "# Save the figure\n",
    "plt.savefig(\"output_data/Fig3.png\")\n",
    "\n",
    "# Show plot\n",
    "plt.show()\n"
   ]
  },
  {
   "cell_type": "markdown",
   "metadata": {},
   "source": [
    "#### Latitude vs. Wind Speed Plot"
   ]
  },
  {
   "cell_type": "code",
   "execution_count": null,
   "metadata": {},
   "outputs": [],
   "source": [
    "# Build scatter plot for latitude vs. wind speed\n",
    "plt.scatter(city_data_df[\"Lat\"], city_data_df[\"Wind Speed\"], color=\"blue\", edgecolors=\"black\")\n",
    "\n",
    "# Incorporate the other graph properties\n",
    "plt.title(\"City Latitude vs. Wind Speed\", fontsize=14)\n",
    "plt.xlabel(\"Latitude\", fontsize=12)\n",
    "plt.ylabel(\"Wind Speed (m/s)\", fontsize=12)\n",
    "plt.grid(True)\n",
    "\n",
    "# Save the figure\n",
    "plt.savefig(\"output_data/Fig4.png\")\n",
    "\n",
    "# Show plot\n",
    "plt.show()\n"
   ]
  },
  {
   "cell_type": "markdown",
   "metadata": {},
   "source": [
    "---\n",
    "\n",
    "## Requirement 2: Compute Linear Regression for Each Relationship\n"
   ]
  },
  {
   "cell_type": "code",
   "execution_count": null,
   "metadata": {},
   "outputs": [],
   "source": [
    "import numpy as np\n",
    "import matplotlib.pyplot as plt\n",
    "from scipy.stats import linregress\n",
    "\n",
    "def create_linear_regression_plot(x, y, xlabel, ylabel, title, output_file):\n",
    "    # Perform linear regression\n",
    "    slope, intercept, r_value, p_value, std_err = linregress(x, y)\n",
    "    \n",
    "    # Calculate the regression line\n",
    "    regression_line = slope * np.array(x) + intercept\n",
    "    \n",
    "    # Create the scatter plot\n",
    "    plt.scatter(x, y, color=\"blue\", edgecolors=\"black\")\n",
    "    \n",
    "    # Plot the regression line\n",
    "    plt.plot(x, regression_line, color=\"red\", linewidth=2)\n",
    "\n",
    "    # Add titles and labels\n",
    "    plt.title(title, fontsize=14)\n",
    "    plt.xlabel(xlabel, fontsize=12)\n",
    "    plt.ylabel(ylabel, fontsize=12)\n",
    "    \n",
    "    # Add text for the equation and R-squared value in the bottom-right corner\n",
    "    plt.text(0.95, 0.05, f\"y = {slope:.2f}x + {intercept:.2f}\\n$R^2 = {r_value**2:.2f}$\", \n",
    "             transform=plt.gca().transAxes, fontsize=12, verticalalignment='bottom', horizontalalignment='center', color=\"black\")\n",
    "\n",
    "    # Display grid\n",
    "    plt.grid(True)\n",
    "    \n",
    "    # Save the figure\n",
    "    plt.savefig(output_file)\n",
    "    \n",
    "    # Show plot\n",
    "    plt.show()\n"
   ]
  },
  {
   "cell_type": "code",
   "execution_count": null,
   "metadata": {},
   "outputs": [],
   "source": [
    "# Create a DataFrame with the Northern Hemisphere data (Latitude >= 0)\n",
    "northern_hemi_df = city_data_df[city_data_df[\"Lat\"] >= 0]\n",
    "\n",
    "# Display sample data\n",
    "northern_hemi_df.head()\n"
   ]
  },
  {
   "cell_type": "code",
   "execution_count": null,
   "metadata": {},
   "outputs": [],
   "source": [
    "# Create a DataFrame with the Southern Hemisphere data (Latitude < 0)\n",
    "southern_hemi_df = city_data_df[city_data_df[\"Lat\"] < 0]\n",
    "\n",
    "# Display sample data\n",
    "southern_hemi_df.head()\n"
   ]
  },
  {
   "cell_type": "markdown",
   "metadata": {},
   "source": [
    "###  Temperature vs. Latitude Linear Regression Plot"
   ]
  },
  {
   "cell_type": "code",
   "execution_count": null,
   "metadata": {},
   "outputs": [],
   "source": [
    "# Linear regression on Northern data\n",
    "x = northern_hemi_df[\"Lat\"]  \n",
    "y = northern_hemi_df[\"Max Temp\"]  \n",
    "\n",
    "# Add the plot title and output file name\n",
    "title = \"Latitude vs. Max Temperature (Northern Hemisphere)\"\n",
    "output_file = \"output_data/LinearReg_Lat_MaxTemp_NorthHem.png\"\n",
    "\n",
    "# Create the plot\n",
    "create_linear_regression_plot(x, y, \"Latitude\", \"Max Temperature (°C)\", title, output_file)\n"
   ]
  },
  {
   "cell_type": "code",
   "execution_count": null,
   "metadata": {},
   "outputs": [],
   "source": [
    "# Linear regression on Southern Hemisphere\n",
    "x_south = southern_hemi_df[\"Lat\"]  \n",
    "y_south = southern_hemi_df[\"Max Temp\"] \n",
    "\n",
    "# Add the plot title and output file name for Southern Hemisphere\n",
    "title_south = \"Latitude vs. Max Temperature (Southern Hemisphere)\"\n",
    "output_file_south = \"output_data/LinearReg_Lat_MaxTemp_SouthHem.png\"\n",
    "\n",
    "# Create the plot for Southern Hemisphere\n",
    "create_linear_regression_plot(x_south, y_south, \"Latitude\", \"Max Temperature (°C)\", title_south, output_file_south)\n"
   ]
  },
  {
   "cell_type": "markdown",
   "metadata": {},
   "source": [
    "**Discussion about the linear relationship:** Max temperature increases as latitude (distance from the equator) decreases. 41% of variation in max temperature in the southern hemisphere is accounted for by the graph. For the northern hemisphere, the relationship is stronger at 73%. "
   ]
  },
  {
   "cell_type": "markdown",
   "metadata": {},
   "source": [
    "### Humidity vs. Latitude Linear Regression Plot"
   ]
  },
  {
   "cell_type": "code",
   "execution_count": null,
   "metadata": {},
   "outputs": [],
   "source": [
    "#Linear regression on northern hemisphere\n",
    "x_north = northern_hemi_df[\"Lat\"]  \n",
    "y_north = northern_hemi_df[\"Humidity\"]  \n",
    "\n",
    "# Add the plot title and output file name for Northern Hemisphere\n",
    "title_north = \"Linear Regression: Latitude vs. Max Temperature (Northern Hemisphere)\"\n",
    "output_file_north = \"output_data/LinearReg_Lat_MaxTemp_NorthHem.png\"\n",
    "\n",
    "# Create the plot for Northern Hemisphere\n",
    "create_linear_regression_plot(x_north, y_north, \"Latitude\", \"Humidity\", title_north, output_file_north)\n"
   ]
  },
  {
   "cell_type": "code",
   "execution_count": null,
   "metadata": {},
   "outputs": [],
   "source": [
    "x_south = southern_hemi_df[\"Lat\"] \n",
    "y_south = southern_hemi_df[\"Humidity\"]  \n",
    "\n",
    "# Add the plot title and output file name for Southern Hemisphere\n",
    "title_south = \"Linear Regression: Latitude vs. Humidity (Southern Hemisphere)\"\n",
    "output_file_south = \"output_data/LinearReg_Lat_Humidity_SouthHem.png\"\n",
    "\n",
    "# Create the plot for Southern Hemisphere\n",
    "create_linear_regression_plot(x_south, y_south, \"Latitude\", \"Humidity\", title_south, output_file_south)"
   ]
  },
  {
   "cell_type": "markdown",
   "metadata": {},
   "source": [
    "**Discussion about the linear relationship:** Latitude and humidity have a slight positive correlation, but the R squared value is so low that latitude is likely a poor indicator of humidity. "
   ]
  },
  {
   "cell_type": "markdown",
   "metadata": {},
   "source": [
    "### Cloudiness vs. Latitude Linear Regression Plot"
   ]
  },
  {
   "cell_type": "code",
   "execution_count": null,
   "metadata": {},
   "outputs": [],
   "source": [
    "# Northern Hemisphere\n",
    "x_north_cloudiness = northern_hemi_df[\"Lat\"]  # Independent variable: Latitude\n",
    "y_north_cloudiness = northern_hemi_df[\"Cloudiness\"]  # Dependent variable: Cloudiness\n",
    "\n",
    "# Add the plot title and output file name for Northern Hemisphere (Cloudiness)\n",
    "title_north_cloudiness = \"Linear Regression: Latitude vs. Cloudiness (Northern Hemisphere)\"\n",
    "output_file_north_cloudiness = \"output_data/LinearReg_Lat_Cloudiness_NorthHem.png\"\n",
    "\n",
    "# Create the plot for Northern Hemisphere (Cloudiness)\n",
    "create_linear_regression_plot(x_north_cloudiness, y_north_cloudiness, \"Latitude\", \"Cloudiness (%)\", title_north_cloudiness, output_file_north_cloudiness)"
   ]
  },
  {
   "cell_type": "code",
   "execution_count": null,
   "metadata": {},
   "outputs": [],
   "source": [
    "# Southern Hemisphere\n",
    "x_south_cloudiness = southern_hemi_df[\"Lat\"] \n",
    "y_south_cloudiness = southern_hemi_df[\"Cloudiness\"]  \n",
    "# Add plot title and output file name for Southern Hemisphere (Cloudiness)\n",
    "title_south_cloudiness = \"Linear Regression: Latitude vs. Cloudiness (Southern Hemisphere)\"\n",
    "output_file_south_cloudiness = \"output_data/LinearReg_Lat_Cloudiness_SouthHem.png\"\n",
    "\n",
    "# Create the plot for Southern Hemisphere (Cloudiness)\n",
    "create_linear_regression_plot(x_south_cloudiness, y_south_cloudiness, \"Latitude\", \"Cloudiness (%)\", title_south_cloudiness, output_file_south_cloudiness)\n"
   ]
  },
  {
   "cell_type": "markdown",
   "metadata": {},
   "source": [
    "**Discussion about the linear relationship:** There is minimal correlation between latitude and percentage of clouds (cloudiness)"
   ]
  },
  {
   "cell_type": "markdown",
   "metadata": {},
   "source": [
    "### Wind Speed vs. Latitude Linear Regression Plot"
   ]
  },
  {
   "cell_type": "code",
   "execution_count": null,
   "metadata": {},
   "outputs": [],
   "source": [
    "# Northern Hemisphere\n",
    "\n",
    "x_north_wind = northern_hemi_df[\"Lat\"] \n",
    "y_north_wind = northern_hemi_df[\"Wind Speed\"]  \n",
    "\n",
    "# Add the plot title and output file name for Northern Hemisphere (Wind Speed)\n",
    "title_north_wind = \"Linear Regression: Latitude vs. Wind Speed (Northern Hemisphere)\"\n",
    "output_file_north_wind = \"output_data/LinearReg_Lat_WindSpeed_NorthHem.png\"\n",
    "\n",
    "# Create the plot for Northern Hemisphere (Wind Speed)\n",
    "create_linear_regression_plot(x_north_wind, y_north_wind, \"Latitude\", \"Wind Speed (m/s)\", title_north_wind, output_file_north_wind)\n"
   ]
  },
  {
   "cell_type": "code",
   "execution_count": null,
   "metadata": {},
   "outputs": [],
   "source": [
    "# Southern Hemisphere\n",
    "\n",
    "x_south_wind = southern_hemi_df[\"Lat\"]  # Independent variable: Latitude\n",
    "y_south_wind = southern_hemi_df[\"Wind Speed\"]  \n",
    "\n",
    "# Add the plot title and output file name for Southern Hemisphere (Wind Speed)\n",
    "title_south_wind = \"Linear Regression: Latitude vs. Wind Speed (Southern Hemisphere)\"\n",
    "output_file_south_wind = \"output_data/LinearReg_Lat_WindSpeed_SouthHem.png\"\n",
    "\n",
    "# Create the plot for Southern Hemisphere (Wind Speed)\n",
    "create_linear_regression_plot(x_south_wind, y_south_wind, \"Latitude\", \"Wind Speed (m/s)\", title_south_wind, output_file_south_wind)\n"
   ]
  },
  {
   "cell_type": "markdown",
   "metadata": {},
   "source": [
    "**Discussion about the linear relationship:** There is very little correlation between wind speed and latitude. "
   ]
  },
  {
   "cell_type": "code",
   "execution_count": null,
   "metadata": {},
   "outputs": [],
   "source": []
  }
 ],
 "metadata": {
  "anaconda-cloud": {},
  "kernel_info": {
   "name": "python3"
  },
  "kernelspec": {
   "display_name": "Python 3 (ipykernel)",
   "language": "python",
   "name": "python3"
  },
  "language_info": {
   "codemirror_mode": {
    "name": "ipython",
    "version": 3
   },
   "file_extension": ".py",
   "mimetype": "text/x-python",
   "name": "python",
   "nbconvert_exporter": "python",
   "pygments_lexer": "ipython3",
   "version": "3.12.4"
  },
  "latex_envs": {
   "LaTeX_envs_menu_present": true,
   "autoclose": false,
   "autocomplete": true,
   "bibliofile": "biblio.bib",
   "cite_by": "apalike",
   "current_citInitial": 1,
   "eqLabelWithNumbers": true,
   "eqNumInitial": 1,
   "hotkeys": {
    "equation": "Ctrl-E",
    "itemize": "Ctrl-I"
   },
   "labels_anchors": false,
   "latex_user_defs": false,
   "report_style_numbering": false,
   "user_envs_cfg": false
  },
  "nteract": {
   "version": "0.12.3"
  }
 },
 "nbformat": 4,
 "nbformat_minor": 4
}
